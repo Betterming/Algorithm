{
 "cells": [
  {
   "cell_type": "markdown",
   "metadata": {},
   "source": [
    "# 算法总结"
   ]
  },
  {
   "cell_type": "markdown",
   "metadata": {},
   "source": [
    "## 常见算法总结\n",
    "包括以下算法：\n",
    "- 回溯\n",
    "- DFS\n",
    "- BFS\n",
    "- 动态规划\n",
    "- 二分查找\n",
    "- 双指针\n",
    "- 滑动窗口\n",
    "- 贪心算法"
   ]
  },
  {
   "cell_type": "markdown",
   "metadata": {},
   "source": [
    "### 回溯算法"
   ]
  },
  {
   "cell_type": "markdown",
   "metadata": {},
   "source": [
    "- (1) 用途：一般用于在一定条件下的穷尽问题，这“条件”一般是用来过滤“选择”或者作为结束条件，比如全排列，N皇后。\n",
    "- (2) 关键点：路径，选择列表，结束条件\n",
    "- (3) 代码框架\n",
    "```python\n",
    "result = [] \n",
    "def backtrack(路径, 选择列表):\n",
    "\tif 满⾜结束条件:\n",
    "\t\tresult.add(路径) \n",
    "\t\treturn\n",
    "\t\tfor 选择 in 选择列表:\n",
    "\t\t\t\t# 做选择\n",
    "\t\t\t\t将该选择从选择列表移除\n",
    "\t\t\t\t路径.add(选择)\n",
    "\t\t\t\tbacktrack(路径, 选择列表)\n",
    "\t\t\t\t# 撤销选择\n",
    "\t\t\t\t路径.remove(选择)\n",
    "\t\t\t\t将该选择再次加入选择列表\n",
    "```\n",
    "- (4) 总结\n",
    "    - 回溯算法就是个多叉树的遍历问题，关键就是在前序遍历和后序遍历的位置做一些操作写 backtrack 函数时，需要维护走过的「路径」和当前可以做的「选择列表」，当触发「结束条件」时，将「路径」记入结果集。关键是找出选择列表或者选择，然后根据选择得到新的路径和选择列表，进行再次回溯，接着恢复路径和选择列表为之前的状态。\n",
    "    - 与动态规划关系：动态规划的三个需要明确的点就是「状态」「选择」和「base case」，是不是就对应着走过的「路径」，当前的「选择列表」和「结束条件」？某种程度上说，动态规划的暴力求解阶段就是回溯算法。只是有的问题具有重叠子问题性质，可以用 dp table 或者备忘录优化，将递归树大幅剪枝，这就变成了动态规划。而今天的两个问题，都没有重叠子问题，也就是回溯算法问题了，复杂度非常高是不可避免的。\n",
    "        - 第一步：画决策树，明白路径和选择列表\n",
    "        - 第二步：针对路径选择列表构造方法，满足条件跳出\n",
    "        - 第三步：对于每个选择，做选择形成新的选择列表和路径，递归回溯，最后撤回选择"
   ]
  },
  {
   "cell_type": "markdown",
   "metadata": {},
   "source": [
    "- 例子1 全排序，1，2，3共有多少种排序方式，都列出来\n",
    "    - 路径：记录在 track 中\n",
    "    - 选择列表：nums 中不存在于 track 的那些元素\n",
    "    - 结束条件：nums 中的元素全都在 track 中出现\n",
    "- 小结：核心代码中关键词是选择列表和路径，对选择列表中的每个选择，逐个进行以下步骤：拿一个放入路径中，然后对新的路径和新的选择列表回溯，接着把这个选择又放入选择列表中，路径恢复之前状态，以此循环进行，知道每个选择都进行一遍为止。本例核心代码首先通过判断nums[i]是否在已有的track列表中来过滤得到“选择”，通过该选择（过滤后的nums[i]）更新路径（选择列表不用管，因为已有的路径和选择列表有关系，能够同时更新）。然后进入下一层决策树，接着撤销选择，恢复路径。"
   ]
  },
  {
   "cell_type": "code",
   "execution_count": 5,
   "metadata": {},
   "outputs": [
    {
     "name": "stdout",
     "output_type": "stream",
     "text": [
      "[[1, 2, 3], [1, 3, 2], [2, 1, 3], [2, 3, 1], [3, 1, 2], [3, 2, 1]]\n"
     ]
    }
   ],
   "source": [
    "class Solution:\n",
    "    def permute(self, nums):\n",
    "        res = []\n",
    "\n",
    "        def backtrack(nums, track):\n",
    "            if len(nums) == len(track):\n",
    "# 一定要用track[:] 而不能用track，因为track是引用，当后面改变track时，res对应当track也会改变，\n",
    "# 所以取当前track的副本放入res中，这时track再改变不会影响到这个副本\n",
    "                res.append(track[:])\n",
    "                return\n",
    "            for item in nums:\n",
    "                if item in track:\n",
    "                    continue\n",
    "                track.append(item)\n",
    "                backtrack(nums, track)\n",
    "                track.remove(item)\n",
    "        track = []\n",
    "        backtrack(nums, track)\n",
    "        return res\n",
    "\n",
    "\n",
    "if __name__ == '__main__':\n",
    "    solution = Solution()\n",
    "    nums = [1, 2, 3]\n",
    "    print(solution.permute(nums))"
   ]
  },
  {
   "cell_type": "markdown",
   "metadata": {},
   "source": []
  },
  {
   "cell_type": "code",
   "execution_count": null,
   "metadata": {},
   "outputs": [],
   "source": []
  },
  {
   "cell_type": "code",
   "execution_count": null,
   "metadata": {},
   "outputs": [],
   "source": []
  },
  {
   "cell_type": "code",
   "execution_count": null,
   "metadata": {},
   "outputs": [],
   "source": []
  },
  {
   "cell_type": "code",
   "execution_count": null,
   "metadata": {},
   "outputs": [],
   "source": []
  },
  {
   "cell_type": "code",
   "execution_count": null,
   "metadata": {},
   "outputs": [],
   "source": []
  },
  {
   "cell_type": "code",
   "execution_count": null,
   "metadata": {},
   "outputs": [],
   "source": []
  },
  {
   "cell_type": "code",
   "execution_count": null,
   "metadata": {},
   "outputs": [],
   "source": []
  },
  {
   "cell_type": "code",
   "execution_count": null,
   "metadata": {},
   "outputs": [],
   "source": []
  },
  {
   "cell_type": "code",
   "execution_count": null,
   "metadata": {},
   "outputs": [],
   "source": []
  },
  {
   "cell_type": "code",
   "execution_count": null,
   "metadata": {},
   "outputs": [],
   "source": []
  },
  {
   "cell_type": "code",
   "execution_count": null,
   "metadata": {},
   "outputs": [],
   "source": []
  },
  {
   "cell_type": "code",
   "execution_count": null,
   "metadata": {},
   "outputs": [],
   "source": []
  }
 ],
 "metadata": {
  "kernelspec": {
   "display_name": "Python 3",
   "language": "python",
   "name": "python3"
  },
  "language_info": {
   "codemirror_mode": {
    "name": "ipython",
    "version": 3
   },
   "file_extension": ".py",
   "mimetype": "text/x-python",
   "name": "python",
   "nbconvert_exporter": "python",
   "pygments_lexer": "ipython3",
   "version": "3.7.6"
  },
  "toc": {
   "base_numbering": 1,
   "nav_menu": {
    "height": "42px",
    "width": "160px"
   },
   "number_sections": true,
   "sideBar": true,
   "skip_h1_title": false,
   "title_cell": "Table of Contents",
   "title_sidebar": "Contents",
   "toc_cell": false,
   "toc_position": {
    "height": "calc(100% - 180px)",
    "left": "10px",
    "top": "150px",
    "width": "217px"
   },
   "toc_section_display": true,
   "toc_window_display": false
  },
  "varInspector": {
   "cols": {
    "lenName": 16,
    "lenType": 16,
    "lenVar": 40
   },
   "kernels_config": {
    "python": {
     "delete_cmd_postfix": "",
     "delete_cmd_prefix": "del ",
     "library": "var_list.py",
     "varRefreshCmd": "print(var_dic_list())"
    },
    "r": {
     "delete_cmd_postfix": ") ",
     "delete_cmd_prefix": "rm(",
     "library": "var_list.r",
     "varRefreshCmd": "cat(var_dic_list()) "
    }
   },
   "types_to_exclude": [
    "module",
    "function",
    "builtin_function_or_method",
    "instance",
    "_Feature"
   ],
   "window_display": false
  }
 },
 "nbformat": 4,
 "nbformat_minor": 4
}
