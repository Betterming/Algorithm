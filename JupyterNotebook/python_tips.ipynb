{
 "cells": [
  {
   "cell_type": "markdown",
   "metadata": {},
   "source": [
    "# python刷题常用技巧"
   ]
  },
  {
   "cell_type": "markdown",
   "metadata": {},
   "source": [
    "## list 初始化，遍历，枚举，拉链聚合"
   ]
  },
  {
   "cell_type": "code",
   "execution_count": 1,
   "metadata": {
    "code_folding": []
   },
   "outputs": [
    {
     "name": "stdout",
     "output_type": "stream",
     "text": [
      "[[0, 0, 0], [0, 0, 0]]\n",
      "0\n",
      "-1\n",
      "-2\n",
      "-3\n",
      "-4\n",
      "-5\n",
      "-6\n",
      "-7\n",
      "-8\n",
      "-9\n",
      "NO 0: 1\n",
      "NO 1: 0 : 1\n",
      "N0 0: 1\n",
      "NO 1: 3\n",
      "NO 3: 1 : 3\n",
      "N0 1: 3\n",
      "NO 2: 5\n",
      "NO 5: 2 : 5\n",
      "N0 2: 5\n"
     ]
    }
   ],
   "source": [
    "class Solution:\n",
    "    def listDemo(self, arr, arr2):\n",
    "        # 一维初始化\n",
    "        l = [0 for _ in range(len(arr))]\n",
    "        l = [0] * len(arr)\n",
    "        rows = len(arr2)\n",
    "        cols = len(arr2[0])\n",
    "        # 二维初始化\n",
    "        l = [[0] * cols for j in range(rows)]\n",
    "        print(l)\n",
    "\n",
    "        # 从后向前遍历\n",
    "        for i in range(0, -10, -1):\n",
    "            print(i)\n",
    "\n",
    "        # enumerate用法\n",
    "        for index, item in enumerate(arr):\n",
    "            print('NO {0}: {1}'.format(index, item))\n",
    "            print('NO {1}: {0} : {1}'.format(index, item))\n",
    "            print('N0 {index}: {item}'.format(index=index, item=item))\n",
    "            \n",
    "if __name__ == '__main__':\n",
    "    solution = Solution()\n",
    "    arr = [1, 3, 5]\n",
    "    testArr = [3, -6, 7, -2, 1, 5, 4]\n",
    "    arr2 = [[2, 4, 5], [2, 3, 6]]\n",
    "    solution.listDemo(arr, arr2)"
   ]
  },
  {
   "cell_type": "markdown",
   "metadata": {},
   "source": [
    "## reduce, map\n",
    "\n",
    "reduce：可以分别对相邻元素使用同一种计算规则，同时每一步结果作为下一步的参数，很典型的函数式编程用法。\n",
    "\n",
    "map:它接收一个函数 f 和一个 list，并通过把函数 f 依次作用在 list 的每个元素上，得到一个新的 list 并返回,可以将参数一一映射来计算."
   ]
  },
  {
   "cell_type": "code",
   "execution_count": 2,
   "metadata": {},
   "outputs": [
    {
     "name": "stdout",
     "output_type": "stream",
     "text": [
      "The sum of the array is  9\n",
      "[1, 27, 3125]\n",
      "[1, 2, 3]\n",
      "['Admin', 'Lisa', 'Bob']\n",
      "[('Math89', 106.8), ('English70', 84.0), ('History90', 108.0), ('Piano95', 114.0)]\n"
     ]
    }
   ],
   "source": [
    "class Solution:\n",
    "    def reduceDemo(self, arr):\n",
    "        from functools import reduce\n",
    "        print('The sum of the array is ', reduce(lambda a, b: a+b, arr))\n",
    "        \n",
    "    def mapDemo(self, arr):\n",
    "        lis = map(lambda x: x**x, arr)\n",
    "        print(list(lis))\n",
    "\n",
    "        s = '123'\n",
    "        s_int = map(int, s)\n",
    "        print(list(s_int))\n",
    "\n",
    "        format_name = ['admin', 'LISA', 'boB']\n",
    "        print(list(map(lambda s: s[0].upper() + s[1:].lower(), format_name)))\n",
    "        d = {'math': 89, 'English': 70, 'history': 90, 'piano': 95}\n",
    "\n",
    "        def f(st, i):\n",
    "            return st[0].upper() + st[1:] + str(i), i * 1.2\n",
    "        print(list(map(f, d.keys(), d.values())))\n",
    "\n",
    "if __name__ == '__main__':\n",
    "    solution = Solution()\n",
    "    arr = [1, 3, 5]\n",
    "    testArr = [3, -6, 7, -2, 1, 5, 4]\n",
    "    arr2 = [[2, 4, 5], [2, 3, 6]]\n",
    "    solution.reduceDemo(arr)\n",
    "    solution.mapDemo(arr)"
   ]
  },
  {
   "cell_type": "markdown",
   "metadata": {},
   "source": [
    "## deque set heap\n",
    "- `from collections import deque`\n",
    "- `import heapq`\n",
    "\n",
    "(1) list 删除末尾的操作是`O(1)`的，但是删除头操作就是`O(n)`，这时候我们就需要一个双端队列 `deque`。\n",
    "在序列的前后你都可以执行添加或删除操作。\n",
    "首尾的常规操作为：\n",
    "- `append`，添加到末尾\n",
    "- `appendleft`, 添加到开头\n",
    "- `pop`, 剔除末尾\n",
    "- `popleft`，移除开头\n",
    "\n",
    "\n",
    "(2) set 的查找操作复杂度为`O(1)`，有时候可以替代`dict` 来存储中间过程。\n",
    "\n",
    "- `add` : set 的添加是 `add` 不是`append`\n",
    "- `remove` vs `discard`: 都是删除操作，区别在于`remove`不存在的元素会报错，`discard`不会。\n",
    "- `union`, `intersection`: 快速获得并集和交集，方便一些去重操作。\n",
    "\n",
    "(3) heapq: 即priority queue，heapq 就是 python 的 `priority` queue，`heapq[0]`即为堆顶元素。\n",
    "heapq 的实现是小顶堆，如果需要一个大顶堆，常规的一个做法是把值取负存入，取出时再反转。以下是借助 heapq 来实现 heapsort 的例子：\n",
    "\n",
    "- heappush\n",
    "- heappop,\n",
    "- nlargest(k, nums)"
   ]
  },
  {
   "cell_type": "code",
   "execution_count": 3,
   "metadata": {},
   "outputs": [
    {
     "name": "stdout",
     "output_type": "stream",
     "text": [
      "deque([2, 3, 4], maxlen=3)\n",
      "deque([2, 3], maxlen=3)\n",
      "deque([50, 2, 3], maxlen=3)\n",
      "deque([60, 50, 2], maxlen=3)\n",
      "deque([50, 2], maxlen=3)\n",
      "{1, 3}\n",
      "{2}\n",
      "3\n",
      "[-6, -2, 1, 3, 4, 5, 7]\n"
     ]
    }
   ],
   "source": [
    "class Solution:\n",
    "    def dequeDemo(self):\n",
    "        from collections import deque\n",
    "        dq = deque(maxlen=3)\n",
    "        dq.append(1)\n",
    "        dq.append(2)\n",
    "        dq.append(3)\n",
    "        dq.append(4)\n",
    "        print(dq)\n",
    "\n",
    "        dq.pop()\n",
    "        print(dq)\n",
    "        dq.appendleft(50)\n",
    "        print(dq)\n",
    "        dq.appendleft(60)\n",
    "        print(dq)\n",
    "        dq.popleft()\n",
    "        print(dq)\n",
    "        \n",
    "    def setDemo(self):\n",
    "        a = {1, 3, 1}\n",
    "        print(a)\n",
    "\n",
    "        st = set()\n",
    "        st.add(1)\n",
    "        st.add(2)\n",
    "        st.add(1)\n",
    "#         st.remove(1)\n",
    "        st.discard(1)\n",
    "        print(st)\n",
    "    \n",
    "    def heapqDemo(self, arr, k):\n",
    "        import heapq\n",
    "        res = heapq.nlargest(k, arr)[-1]\n",
    "        print(res)\n",
    "        h = []\n",
    "        for item in arr:\n",
    "            heapq.heappush(h, item)\n",
    "\n",
    "        print([heapq.heappop(h) for _ in range(len(h))])\n",
    "        \n",
    "if __name__ == '__main__':\n",
    "    solution = Solution()\n",
    "    arr = [1, 3, 5]\n",
    "    testArr = [3, -6, 7, -2, 1, 5, 4]\n",
    "    arr2 = [[2, 4, 5], [2, 3, 6]]\n",
    "    solution.dequeDemo()\n",
    "    solution.setDemo()\n",
    "    solution.heapqDemo(testArr, 4)"
   ]
  },
  {
   "cell_type": "markdown",
   "metadata": {},
   "source": [
    "## dict\n",
    "- from collections import OrderedDict, defaultdict\n",
    "- OrderedDict: 能记录你 key 和 value 插入的顺序，底层其实是一个双向链表加哈希表的实现。我们甚至可以使用move_to_end这样的函数\n",
    "- defaultdict: 以很好地来解决一些初始化的问题，defaultdict的作用是在于，当字典里的key不存在但被查找时，返回的不是keyError而是一个默认值\n",
    "defaultdict接受一个工厂函数作为参数，如下来构造：\n",
    "dict =defaultdict( factory_function) 这个factory_function可以是list、set、str等等，作用是当key不存在时，返回的是工厂函数的默认值，比如list对应[ ]，str对应的是空字符串，set对应set( )，int对应0，"
   ]
  },
  {
   "cell_type": "code",
   "execution_count": 4,
   "metadata": {},
   "outputs": [
    {
     "name": "stdout",
     "output_type": "stream",
     "text": [
      "{1: 'null'}\n",
      "{1: 'hello'}\n",
      "key = 001, value = hello\n",
      "(1, 'hello')\n",
      "key = 002, value = this\n",
      "(2, 'this')\n",
      "key = 003, value = world\n",
      "(3, 'world')\n",
      "OrderedDict([('b', 2), ('c', 3), ('d', 1), ('a', 1)])\n",
      "defaultdict(<class 'list'>, {'yellow': [1, 3], 'blue': [2, 4], 'red': [1]})\n",
      "di:  0\n",
      "ds:  set()\n",
      "dstr:  \n",
      "dl:  []\n",
      "dlambda:  0\n"
     ]
    }
   ],
   "source": [
    "class Solution:\n",
    "    def dictDemo(self):\n",
    "        a = dict()\n",
    "\n",
    "        a.setdefault(1, 'null')  # 先尝试把如果key=1不存在的话，就插入{1:null},若存在就插入无效\n",
    "        print(a)\n",
    "        a[1] = 'hello'\n",
    "        a.setdefault(1, 'null')\n",
    "        print(a)\n",
    "        a[2] = 'this'\n",
    "        a[3] = 'world'\n",
    "        for k, v, item in zip(a.keys(), a.values(), a.items()):\n",
    "            print('key = %03d, value = %s' % (k, v))\n",
    "            print(item)\n",
    "\n",
    "        from collections import OrderedDict, defaultdict\n",
    "        od =OrderedDict()\n",
    "        od.fromkeys('abcde')\n",
    "        od.setdefault('a', 1)\n",
    "        od.setdefault('b', 2)\n",
    "        od.setdefault('c', 3)\n",
    "        od.setdefault('d', 1)\n",
    "        od.move_to_end('a')\n",
    "        print(od)\n",
    "\n",
    "        dd = defaultdict(list)\n",
    "        s = [('yellow', 1), ('blue', 2), ('yellow', 3), ('blue', 4), ('red', 1)]\n",
    "        for k, v in s:\n",
    "            dd[k].append(v)\n",
    "        sorted(dd.items())  # 字典按照key排序\n",
    "        print(dd)\n",
    "\n",
    "        di = defaultdict(int)\n",
    "        ds = defaultdict(set)\n",
    "        dstr = defaultdict(str)\n",
    "        dl = defaultdict(list)\n",
    "        dlambda = defaultdict(lambda: 0)  # 指定默认值\n",
    "        print(\"di: \", di['yellow'])\n",
    "        print(\"ds: \", ds['yellow'])\n",
    "        print(\"dstr: \", dstr['yellow'])\n",
    "        print(\"dl: \", dl['yellow'])\n",
    "        print(\"dlambda: \", dlambda['yellow'])\n",
    "\n",
    "if __name__ == '__main__':\n",
    "    solution = Solution()\n",
    "    solution.dictDemo()"
   ]
  },
  {
   "cell_type": "markdown",
   "metadata": {},
   "source": [
    "## 排序sorted/lis.sorted() , lambda, cmp, copy\n",
    "\n",
    "- 排序不改变原来数组用sorted(),改变用lis.sorted()\n",
    "- 简单函数lambda\n",
    "- 比较函数，配合sorted排序函数 `from functools import cmp_to_key`\n",
    "- copy, 深浅拷贝：浅拷贝，拷贝对象，但不拷贝对象里面引用的对象。深拷贝，拷贝对象，而且拷贝对象里面引用的对象。"
   ]
  },
  {
   "cell_type": "code",
   "execution_count": 5,
   "metadata": {},
   "outputs": [
    {
     "name": "stdout",
     "output_type": "stream",
     "text": [
      "[('math', 90), ('English', 89), ('history', 80)]\n",
      "5.0\n",
      "[1, 3, 5]\n",
      "[1, 2, [3, 4]]\n",
      "[1, 2, [3, 4, 5]] [1, 2, [3, 4, 5]]\n",
      "[1, 2, [3, 4, 5, 5]] [1, 2, [3, 4, 5]]\n"
     ]
    }
   ],
   "source": [
    "class Solution:\n",
    "        # 排序， 不改变原list\n",
    "    def sortedDemo(self):\n",
    "        l1 = [('math', 90), ('history', 80), ('English', 89)]\n",
    "        l2 = sorted(l1, key=lambda x: x[1], reverse=True)\n",
    "        print(l2)\n",
    "\n",
    "    def lambdaDemo(self):\n",
    "        from math import sqrt\n",
    "        f = lambda x, y: sqrt(x**2 + y**2)\n",
    "        print(f(3, 4))\n",
    "\n",
    "    # cmp_to_key: 在 python3 中，sorted 函数取消了自带的cmp函数，需要借助functools 库中的 cmp_to_key来做比较。比如如果要按照数组元素的绝对值来排序\n",
    "    def cmpDemo(self, arr):\n",
    "        def sortFunc(a, b):\n",
    "            if abs(a) < abs(b):\n",
    "                return -1\n",
    "            elif abs(a) > abs(b):\n",
    "                return 1\n",
    "        from functools import cmp_to_key\n",
    "        newArr = sorted(arr, key=cmp_to_key(sortFunc))\n",
    "        print(newArr)\n",
    "    \n",
    "    def copyDemo(self):\n",
    "        a = [1, 2, [3, 4]]\n",
    "        a1 = a\n",
    "        print(a1)\n",
    "\n",
    "        b = a[:]\n",
    "        a[2].append(5)\n",
    "        print(a, b)\n",
    "\n",
    "        import copy\n",
    "        c = copy.deepcopy(b)\n",
    "        a[2].append(5)\n",
    "        print(a, c)\n",
    "    \n",
    "    \n",
    "if __name__ == '__main__':\n",
    "    solution = Solution()\n",
    "    arr = [1, 3, 5]\n",
    "    testArr = [3, -6, 7, -2, 1, 5, 4]\n",
    "    arr2 = [[2, 4, 5], [2, 3, 6]]\n",
    "    solution.sortedDemo()\n",
    "    solution.lambdaDemo()\n",
    "    solution.cmpDemo(arr)\n",
    "    solution.copyDemo()"
   ]
  },
  {
   "cell_type": "markdown",
   "metadata": {},
   "source": [
    "## 统计counter，最值\n",
    "- 统计频率相关的，counter(list) 返回一个字典，可以使用most_common(3)统计频率最高的3个tuple元素 `from collections import Counter`\n",
    "- float('inf') float('-inf')\n",
    "- all() 函数用于判断给定的可迭代参数 iterable中的所有元素是否不为 0、''、False 或者 iterable 为空，如果是返回 True，否则返回 False。`都不为空返回True`\n",
    "- any() 函数用于判断给定的可迭代参数 iterable 是否全部为空对象，如果都为空、0、false，则返回 False，如果不都为空、0、false，则返回 True.  `有一个不为空返回True`"
   ]
  },
  {
   "cell_type": "code",
   "execution_count": 6,
   "metadata": {},
   "outputs": [
    {
     "name": "stdout",
     "output_type": "stream",
     "text": [
      "No 1: (item: a, freq: 5)\n",
      "No 2: (item: b, freq: 2)\n",
      "No 3: (item: r, freq: 2)\n",
      "inf\n",
      "-inf\n",
      "9223372036854775807\n",
      "True\n",
      "False\n",
      "False\n",
      "True\n",
      "False\n",
      "True\n"
     ]
    }
   ],
   "source": [
    "class Solution:\n",
    "     # 统计频率相关的，counter(list) 返回一个字典，可以使用most_common(3)统计频率最高的3个tuple元素\n",
    "    def counterDemo(self, k):\n",
    "        s = 'abracadabra'\n",
    "        from collections import Counter\n",
    "        for index, item in enumerate(Counter(s).most_common(k)):\n",
    "            print(\"No %d: (item: %s, freq: %d)\" % (index+1, item[0], item[1]))\n",
    "    \n",
    "        print(float('inf'))\n",
    "        print(float('-inf'))\n",
    "        import sys\n",
    "        print(sys.maxsize)\n",
    "        \n",
    "    def anyOrallDemo(self):\n",
    "        names = ('name', 'laoda', 'laoer',)\n",
    "        names2 = ('name', 'laoda', 'laoer', False)\n",
    "        names3 = ('name', 'laoda', 'laoer', [])\n",
    "\n",
    "        print(all(names))  # True\n",
    "        print(all(names2))  # False\n",
    "        print(all(names3))  # False\n",
    "\n",
    "        #  简单来说,有一个不为空,返回True\n",
    "        names = ('frank', 'lijiaxuan', 'weiliang', 'lile', ' ')\n",
    "        defaults = ('', None, [], (), False,)\n",
    "        hobbys = ['name', False, [], (), ]\n",
    "\n",
    "        print(any(names))  # True\n",
    "        print(any(defaults))  # False\n",
    "        print(any(hobbys))  # True\n",
    "        \n",
    "if __name__ == '__main__':\n",
    "    solution = Solution()\n",
    "    arr = [1, 3, 5]\n",
    "    testArr = [3, -6, 7, -2, 1, 5, 4]\n",
    "    arr2 = [[2, 4, 5], [2, 3, 6]]\n",
    "    solution.counterDemo(3)\n",
    "    solution.anyOrallDemo()\n",
    "\n"
   ]
  },
  {
   "cell_type": "markdown",
   "metadata": {},
   "source": [
    "## string\n",
    "\n",
    "- 字符与unicode转换\n",
    "- 字符串操作，分割，模式匹配，join方法"
   ]
  },
  {
   "cell_type": "code",
   "execution_count": 7,
   "metadata": {},
   "outputs": [
    {
     "name": "stdout",
     "output_type": "stream",
     "text": [
      "97\n",
      "d\n",
      "['jjj', 'jk', 'ajg', 'l', 'aj', 'a:b', 'k', '|', 'te', 'b/s']\n",
      "['jjj', 'jk', 'ajg', 'l', 'aj', 'a', 'b', 'k', 'te', 'b', 's']\n",
      "jjjjkajglaja:bk|teb/s\n",
      "jjj+jk+ajg+l+aj+a:b+k+|+te+b/s\n"
     ]
    }
   ],
   "source": [
    "class Solution:\n",
    "    # string中ord，chr，字符的unicode码和字符转换\n",
    "    def stringsDemo(self):\n",
    "        print(ord('a'))  # 97\n",
    "        print(chr(100))  # 'd'\n",
    "\n",
    "        import re\n",
    "        a = \" jjj jk , ajg l aj; a:b, k | te b/s \"\n",
    "        array = re.split(r'\\s*[,;\\s]\\s*', a.strip())  # 切割的匹配模式是0个或多个空个或者，或者；或者（，；前后0个或者多个空格）\n",
    "        arr3 = re.split(r'\\s*[,;:|/\\s]\\s*', a.strip())\n",
    "        print(array)\n",
    "        print(arr3)\n",
    "        print(''.join(array))\n",
    "        print('+'.join(array))\n",
    "\n",
    "                \n",
    "if __name__ == '__main__':\n",
    "    solution = Solution()\n",
    "    solution.stringsDemo()\n"
   ]
  },
  {
   "cell_type": "markdown",
   "metadata": {},
   "source": [
    "## 随机数random\n",
    "\n",
    "- 小数到大数，newRand = n * (Randn – 1) + Randn等概率扩大到1-n\\*n\n",
    "- 若还想再扩大，可以newRand2 = n * (newRand – 1) + Randn 这时newRand2范围是1-n\\*n\\*n"
   ]
  },
  {
   "cell_type": "code",
   "execution_count": 8,
   "metadata": {},
   "outputs": [
    {
     "name": "stdout",
     "output_type": "stream",
     "text": [
      "8\n",
      "0.3240507749530229\n",
      "4.631093060295878\n",
      "r\n",
      "21\n",
      "[7, 5, 6, 3, 1]\n",
      "res:  3\n",
      "5\n"
     ]
    }
   ],
   "source": [
    "class Solution:\n",
    "    \n",
    "     # 随机数random\n",
    "    def randomDemo(self):\n",
    "        import random\n",
    "        print(random.randint(1, 10))  # 产生 1 到 10 的一个整数型随机数\n",
    "        print(random.random())  # 产生 0 到 1 之间的随机浮点数\n",
    "        print(random.uniform(1.1, 5.4))  # 产生  1.1 到 5.4 之间的随机浮点数，区间可以不是整数\n",
    "        print(random.choice('tomorrow'))  # 从序列中随机选取一个元素\n",
    "        print(random.randrange(1, 100, 2))  # 生成从1到100的间隔为2的随机整数\n",
    "\n",
    "        a = [1, 3, 5, 6, 7]  # 将序列a中的元素顺序打乱\n",
    "        random.shuffle(a)\n",
    "        print(a)\n",
    "\n",
    "    # 随机数扩展:\n",
    "    # 随机大数到随机小数，直接排除掉不符合要求的的数，并再次调用random\n",
    "    \n",
    "    def random7To5(self):\n",
    "        import random\n",
    "        res = random.randint(1, 7)\n",
    "        while res > 5:\n",
    "            res = random.randint(1, 7)\n",
    "        print(\"res: \", res)\n",
    "\n",
    "    def random5To7(self):\n",
    "        import random\n",
    "        res = 25\n",
    "        while res > 21:\n",
    "            res = 5 * (random.randint(1, 5) - 1) + random.randint(1, 5)\n",
    "        print(res % 7 + 1)\n",
    "        \n",
    "if __name__ == '__main__':\n",
    "    solution = Solution()\n",
    "    solution.randomDemo()\n",
    "    solution.random7To5()\n",
    "    solution.random5To7()"
   ]
  },
  {
   "cell_type": "markdown",
   "metadata": {},
   "source": [
    "## 排列组合\n",
    "- permutations/combinations 排列组合A(n,m), C(n, m)\n",
    "- from itertools import permutations, combinations"
   ]
  },
  {
   "cell_type": "code",
   "execution_count": 9,
   "metadata": {},
   "outputs": [
    {
     "name": "stdout",
     "output_type": "stream",
     "text": [
      "['abc', 'abd', 'abe', 'acb', 'acd', 'ace', 'adb', 'adc', 'ade', 'aeb', 'aec', 'aed', 'bac', 'bad', 'bae', 'bca', 'bcd', 'bce', 'bda', 'bdc', 'bde', 'bea', 'bec', 'bed', 'cab', 'cad', 'cae', 'cba', 'cbd', 'cbe', 'cda', 'cdb', 'cde', 'cea', 'ceb', 'ced', 'dab', 'dac', 'dae', 'dba', 'dbc', 'dbe', 'dca', 'dcb', 'dce', 'dea', 'deb', 'dec', 'eab', 'eac', 'ead', 'eba', 'ebc', 'ebd', 'eca', 'ecb', 'ecd', 'eda', 'edb', 'edc']\n",
      "['abc', 'abd', 'abe', 'acd', 'ace', 'ade', 'bcd', 'bce', 'bde', 'cde']\n"
     ]
    }
   ],
   "source": [
    "class Solution:\n",
    "    def permutationsOrCombinations(self):\n",
    "        from itertools import permutations, combinations\n",
    "        s = 'abcde'\n",
    "        perList = []\n",
    "        combList = []\n",
    "        for item in list(permutations(s, 3)):\n",
    "            perList.append(''.join(item))\n",
    "        for item in list(combinations(s, 3)):\n",
    "            combList.append(''.join(item))\n",
    "\n",
    "        print(perList)\n",
    "        print(combList)\n",
    "        \n",
    "if __name__ == '__main__':\n",
    "    solution = Solution()\n",
    "    solution.permutationsOrCombinations()"
   ]
  }
 ],
 "metadata": {
  "kernelspec": {
   "display_name": "PyCharm (Python)",
   "language": "python",
   "name": "pycharm-6c00533f"
  },
  "toc": {
   "base_numbering": 1,
   "nav_menu": {},
   "number_sections": true,
   "sideBar": false,
   "skip_h1_title": false,
   "title_cell": "Table of Contents",
   "title_sidebar": "Contents",
   "toc_cell": false,
   "toc_position": {
    "height": "729px",
    "left": "689.391px",
    "top": "134px",
    "width": "270.609px"
   },
   "toc_section_display": false,
   "toc_window_display": true
  },
  "varInspector": {
   "cols": {
    "lenName": 16,
    "lenType": 16,
    "lenVar": 40
   },
   "kernels_config": {
    "python": {
     "delete_cmd_postfix": "",
     "delete_cmd_prefix": "del ",
     "library": "var_list.py",
     "varRefreshCmd": "print(var_dic_list())"
    },
    "r": {
     "delete_cmd_postfix": ") ",
     "delete_cmd_prefix": "rm(",
     "library": "var_list.r",
     "varRefreshCmd": "cat(var_dic_list()) "
    }
   },
   "types_to_exclude": [
    "module",
    "function",
    "builtin_function_or_method",
    "instance",
    "_Feature"
   ],
   "window_display": false
  }
 },
 "nbformat": 4,
 "nbformat_minor": 4
}
